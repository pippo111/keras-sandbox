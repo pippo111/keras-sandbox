{
 "cells": [
  {
   "cell_type": "code",
   "execution_count": null,
   "metadata": {},
   "outputs": [],
   "source": [
    "input_label_niftii = 'aseg-in-t1weighted_2std.nii.gz'\n",
    "input_image_niftii = 't1weighted_2std.nii.gz'\n",
    "\n",
    "input_scans = [\n",
    "  'NKI-RS-22-1'\n",
    "]\n",
    "\n",
    "labels = [0.0]"
   ]
  },
  {
   "cell_type": "code",
   "execution_count": null,
   "metadata": {},
   "outputs": [],
   "source": [
    "def load_image_data(filename, dirname=''):\n",
    "  full_path = os.path.join('./niftii', dirname, filename)\n",
    "  img = nib.load(full_path)\n",
    "  img_data = img.get_fdata(dtype=np.float32)\n",
    "\n",
    "  return img_data"
   ]
  }
 ],
 "metadata": {
  "kernelspec": {
   "display_name": "Python 3",
   "language": "python",
   "name": "python3"
  },
  "language_info": {
   "codemirror_mode": {
    "name": "ipython",
    "version": 3
   },
   "file_extension": ".py",
   "mimetype": "text/x-python",
   "name": "python",
   "nbconvert_exporter": "python",
   "pygments_lexer": "ipython3",
   "version": "3.7.3"
  }
 },
 "nbformat": 4,
 "nbformat_minor": 2
}
