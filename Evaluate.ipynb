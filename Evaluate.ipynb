{
 "cells": [
  {
   "cell_type": "code",
   "execution_count": 2,
   "metadata": {},
   "outputs": [
    {
     "name": "stderr",
     "output_type": "stream",
     "text": [
      "Using TensorFlow backend.\n"
     ]
    }
   ],
   "source": [
    "from common import model\n",
    "from common import dataset\n",
    "\n",
    "import matplotlib\n",
    "import matplotlib.pyplot as plt\n",
    "\n",
    "import config as cfg"
   ]
  },
  {
   "cell_type": "code",
   "execution_count": 3,
   "metadata": {},
   "outputs": [
    {
     "name": "stderr",
     "output_type": "stream",
     "text": [
      "WARNING: Logging before flag parsing goes to stderr.\n",
      "W0808 15:46:35.420653 140225073485632 deprecation_wrapper.py:119] From /usr/local/lib/python3.6/dist-packages/keras/backend/tensorflow_backend.py:74: The name tf.get_default_graph is deprecated. Please use tf.compat.v1.get_default_graph instead.\n",
      "\n",
      "W0808 15:46:35.433843 140225073485632 deprecation_wrapper.py:119] From /usr/local/lib/python3.6/dist-packages/keras/backend/tensorflow_backend.py:517: The name tf.placeholder is deprecated. Please use tf.compat.v1.placeholder instead.\n",
      "\n",
      "W0808 15:46:35.436949 140225073485632 deprecation_wrapper.py:119] From /usr/local/lib/python3.6/dist-packages/keras/backend/tensorflow_backend.py:4138: The name tf.random_uniform is deprecated. Please use tf.random.uniform instead.\n",
      "\n",
      "W0808 15:46:35.802435 140225073485632 deprecation_wrapper.py:119] From /usr/local/lib/python3.6/dist-packages/keras/optimizers.py:790: The name tf.train.Optimizer is deprecated. Please use tf.compat.v1.train.Optimizer instead.\n",
      "\n"
     ]
    }
   ],
   "source": [
    "my_dataset = dataset.MyDataset(\n",
    "  is_3d=True\n",
    ")\n",
    "\n",
    "my_model = model.MyModel(\n",
    "  arch='Unet3d',\n",
    "  checkpoint='unet3d'\n",
    ")"
   ]
  },
  {
   "cell_type": "code",
   "execution_count": null,
   "metadata": {},
   "outputs": [
    {
     "name": "stderr",
     "output_type": "stream",
     "text": [
      "W0808 15:46:45.584922 140225073485632 deprecation_wrapper.py:119] From /usr/local/lib/python3.6/dist-packages/keras/backend/tensorflow_backend.py:174: The name tf.get_default_session is deprecated. Please use tf.compat.v1.get_default_session instead.\n",
      "\n",
      "W0808 15:46:45.585462 140225073485632 deprecation_wrapper.py:119] From /usr/local/lib/python3.6/dist-packages/keras/backend/tensorflow_backend.py:181: The name tf.ConfigProto is deprecated. Please use tf.compat.v1.ConfigProto instead.\n",
      "\n"
     ]
    }
   ],
   "source": [
    "train_generator, test_generator = my_dataset.create_test_train_gen()\n",
    "my_model.load()\n",
    "predicted = my_model.evaluate(test_generator)"
   ]
  },
  {
   "cell_type": "code",
   "execution_count": null,
   "metadata": {},
   "outputs": [],
   "source": [
    "test_image.shape\n",
    "image = test_image.squeeze()\n",
    "image.shape\n",
    "\n",
    "image_0 = image[55, :, :]\n",
    "image_1 = image[:, 55, :]\n",
    "image_2 = image[:, :, 100]"
   ]
  },
  {
   "cell_type": "code",
   "execution_count": null,
   "metadata": {},
   "outputs": [],
   "source": [
    "test_mask.shape\n",
    "mask = test_mask.squeeze()\n",
    "mask.shape\n",
    "\n",
    "mask_0 = mask[55, :, :]\n",
    "mask_1 = mask[:, 55, :]\n",
    "mask_2 = mask[:, :, 100]"
   ]
  },
  {
   "cell_type": "code",
   "execution_count": null,
   "metadata": {},
   "outputs": [],
   "source": [
    "print(predicted.shape)\n",
    "pred = predicted.squeeze()\n",
    "print(pred.shape)\n",
    "\n",
    "pred_0 = pred[55, :, :]\n",
    "pred_1 = pred[:, 55, :]\n",
    "pred_2 = pred[:, :, 100]"
   ]
  },
  {
   "cell_type": "code",
   "execution_count": null,
   "metadata": {},
   "outputs": [],
   "source": [
    "fig, ax = plt.subplots(3, 3, figsize=(20, 20))\n",
    "\n",
    "ax[0][0].imshow(image_0, cmap='gray')\n",
    "ax[0][1].imshow(image_1, cmap='gray')\n",
    "ax[0][2].imshow(image_2, cmap='gray')\n",
    "\n",
    "ax[1][0].imshow(mask_0, cmap='gray')\n",
    "ax[1][1].imshow(mask_1, cmap='gray')\n",
    "ax[1][2].imshow(mask_2, cmap='gray')\n",
    "\n",
    "ax[2][0].imshow(pred_0, cmap='gray')\n",
    "ax[2][1].imshow(pred_1, cmap='gray')\n",
    "ax[2][2].imshow(pred_2, cmap='gray')"
   ]
  },
  {
   "cell_type": "code",
   "execution_count": null,
   "metadata": {},
   "outputs": [],
   "source": []
  }
 ],
 "metadata": {
  "kernelspec": {
   "display_name": "Python 3",
   "language": "python",
   "name": "python3"
  },
  "language_info": {
   "codemirror_mode": {
    "name": "ipython",
    "version": 3
   },
   "file_extension": ".py",
   "mimetype": "text/x-python",
   "name": "python",
   "nbconvert_exporter": "python",
   "pygments_lexer": "ipython3",
   "version": "3.6.8"
  }
 },
 "nbformat": 4,
 "nbformat_minor": 2
}
