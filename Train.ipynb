{
 "cells": [
  {
   "cell_type": "code",
   "execution_count": null,
   "metadata": {
    "scrolled": true
   },
   "outputs": [],
   "source": [
    "from common import model\n",
    "from common import dataset\n",
    "from common.utils import save_model_setup\n",
    "\n",
    "import config as cfg"
   ]
  },
  {
   "cell_type": "code",
   "execution_count": null,
   "metadata": {},
   "outputs": [],
   "source": [
    "from common import model\n",
    "from common import dataset\n",
    "\n",
    "import config as cfg\n",
    "\n",
    "my_dataset = dataset.MyDataset(\n",
    "  collection_name = cfg.dataset['collection_name'],\n",
    "  batch_size=cfg.model['batch_size']\n",
    ")\n",
    "\n",
    "my_model = model.MyModel(\n",
    "  arch = cfg.model['arch'],\n",
    "  loss_function = cfg.model['loss_fn'],\n",
    "  checkpoint = cfg.model['checkpoint'],\n",
    "  width = cfg.dataset['width'],\n",
    "  height = cfg.dataset['height'],\n",
    "  depth = cfg.dataset['depth'],\n",
    "  epochs = cfg.model['epochs'],\n",
    "  filters = cfg.model['filters']\n",
    ")\n",
    "\n",
    "train_generator, test_generator = my_dataset.create_train_test_gen()\n",
    "my_model.get_model_summary()"
   ]
  },
  {
   "cell_type": "code",
   "execution_count": null,
   "metadata": {},
   "outputs": [],
   "source": [
    "my_model.train(train_generator, test_generator)"
   ]
  },
  {
   "cell_type": "code",
   "execution_count": null,
   "metadata": {},
   "outputs": [],
   "source": [
    "save_model_setup()"
   ]
  }
 ],
 "metadata": {
  "kernelspec": {
   "display_name": "Python 3",
   "language": "python",
   "name": "python3"
  },
  "language_info": {
   "codemirror_mode": {
    "name": "ipython",
    "version": 3
   },
   "file_extension": ".py",
   "mimetype": "text/x-python",
   "name": "python",
   "nbconvert_exporter": "python",
   "pygments_lexer": "ipython3",
   "version": "3.6.8"
  }
 },
 "nbformat": 4,
 "nbformat_minor": 2
}
